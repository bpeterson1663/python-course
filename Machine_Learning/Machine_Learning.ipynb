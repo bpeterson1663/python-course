{
  "nbformat": 4,
  "nbformat_minor": 0,
  "metadata": {
    "colab": {
      "provenance": []
    },
    "kernelspec": {
      "name": "python3",
      "display_name": "Python 3"
    },
    "language_info": {
      "name": "python"
    }
  },
  "cells": [
    {
      "cell_type": "code",
      "execution_count": 57,
      "metadata": {
        "id": "tcXt5-zFlWoW"
      },
      "outputs": [],
      "source": [
        "from sklearn.datasets import load_iris\n",
        "from sklearn.model_selection import train_test_split\n",
        "from sklearn.tree import DecisionTreeClassifier\n",
        "from sklearn import metrics\n",
        "import joblib\n",
        "\n",
        "iris = load_iris()"
      ]
    },
    {
      "cell_type": "code",
      "source": [
        "X = iris.data\n",
        "y = iris.target\n",
        "\n",
        "feature_names = iris.feature_names\n",
        "target_names = iris.target_names"
      ],
      "metadata": {
        "id": "6qinACyMlrdI"
      },
      "execution_count": 41,
      "outputs": []
    },
    {
      "cell_type": "code",
      "source": [
        "X_train, X_test, y_train, y_test = train_test_split(X, y, test_size=0.2)\n",
        "\n",
        "print(X_train.shape)\n",
        "print(X_test.shape)"
      ],
      "metadata": {
        "colab": {
          "base_uri": "https://localhost:8080/"
        },
        "id": "mjl8cO8PnR7_",
        "outputId": "3792c075-b524-4d8a-8194-a001f28444ba"
      },
      "execution_count": 51,
      "outputs": [
        {
          "output_type": "stream",
          "name": "stdout",
          "text": [
            "(120, 4)\n",
            "(30, 4)\n"
          ]
        }
      ]
    },
    {
      "cell_type": "code",
      "source": [
        "knn = DecisionTreeClassifier()\n",
        "knn.fit(X_train, y_train)\n",
        "\n",
        "knn.fit(X_train, y_train)\n",
        "y_pred = knn.predict(X_test)"
      ],
      "metadata": {
        "id": "BUcBpQVMnrj2"
      },
      "execution_count": 49,
      "outputs": []
    },
    {
      "cell_type": "code",
      "source": [
        "print(metrics.accuracy_score(y_test, y_pred))"
      ],
      "metadata": {
        "colab": {
          "base_uri": "https://localhost:8080/"
        },
        "id": "mGjcYW0ModFu",
        "outputId": "58d8fed0-25f3-45dc-d162-80756f9954e2"
      },
      "execution_count": 50,
      "outputs": [
        {
          "output_type": "stream",
          "name": "stdout",
          "text": [
            "0.9666666666666667\n"
          ]
        }
      ]
    },
    {
      "cell_type": "code",
      "source": [
        "sample = [[3,5,4,2], [2,3,5,4]]\n",
        "predictions = knn.predict(sample)\n",
        "\n",
        "pred_species = [iris.target_names[p] for p in predictions]\n",
        "print(pred_species)"
      ],
      "metadata": {
        "colab": {
          "base_uri": "https://localhost:8080/"
        },
        "id": "1aFbrTs5pzbk",
        "outputId": "de01ebb5-745b-4442-c53d-70b45e8c9257"
      },
      "execution_count": 54,
      "outputs": [
        {
          "output_type": "stream",
          "name": "stdout",
          "text": [
            "['versicolor', 'virginica']\n"
          ]
        }
      ]
    },
    {
      "cell_type": "code",
      "source": [
        "joblib.dump(knn, 'mlbrain.joblib')\n",
        "model = joblib.load('mlbrain.joblib')\n",
        "\n",
        "model.predict(X_test)\n",
        "\n",
        "sample = [[3,5,4,2], [2,3,5,4]]\n",
        "predictions = model.predict(sample)\n",
        "\n",
        "pred_species = [iris.target_names[p] for p in predictions]\n",
        "print(pred_species)"
      ],
      "metadata": {
        "colab": {
          "base_uri": "https://localhost:8080/"
        },
        "id": "ygPMW8agrXxD",
        "outputId": "051abe4a-e4b1-4d0f-c47c-a580fbf0cfb1"
      },
      "execution_count": 60,
      "outputs": [
        {
          "output_type": "stream",
          "name": "stdout",
          "text": [
            "['versicolor', 'virginica']\n"
          ]
        }
      ]
    }
  ]
}